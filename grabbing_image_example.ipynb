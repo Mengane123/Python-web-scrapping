{
 "cells": [
  {
   "cell_type": "code",
   "execution_count": 2,
   "metadata": {},
   "outputs": [],
   "source": [
    "import requests\n",
    "req=requests.get('https://vivo.brown.edu/display/lgandhi')\n",
    "\n",
    "\n"
   ]
  },
  {
   "cell_type": "code",
   "execution_count": 3,
   "metadata": {},
   "outputs": [],
   "source": [
    "import bs4\n",
    "soup=bs4.BeautifulSoup(req.text,'lxml')"
   ]
  },
  {
   "cell_type": "code",
   "execution_count": 4,
   "metadata": {},
   "outputs": [],
   "source": [
    "first=soup.select('.img-circle')[0]"
   ]
  },
  {
   "cell_type": "code",
   "execution_count": 5,
   "metadata": {},
   "outputs": [
    {
     "data": {
      "text/plain": [
       "<img alt=\"Faculty Picture\" class=\"img-circle\" src=\"https://vivo.brown.edu/profile-images/468/59/lgandhi_photo_.jpg\" width=\"175\"/>"
      ]
     },
     "execution_count": 5,
     "metadata": {},
     "output_type": "execute_result"
    }
   ],
   "source": [
    "first"
   ]
  },
  {
   "cell_type": "markdown",
   "metadata": {},
   "source": [
    "<img\n",
    "src='https://vivo.brown.edu/profile-images/468/59/lgandhi_photo_.jpg'>"
   ]
  },
  {
   "cell_type": "code",
   "execution_count": 6,
   "metadata": {},
   "outputs": [],
   "source": [
    "#leela gandhi "
   ]
  },
  {
   "cell_type": "code",
   "execution_count": 7,
   "metadata": {},
   "outputs": [
    {
     "data": {
      "text/plain": [
       "'https://vivo.brown.edu/profile-images/468/59/lgandhi_photo_.jpg'"
      ]
     },
     "execution_count": 7,
     "metadata": {},
     "output_type": "execute_result"
    }
   ],
   "source": [
    "first['src']"
   ]
  },
  {
   "cell_type": "code",
   "execution_count": 11,
   "metadata": {},
   "outputs": [],
   "source": [
    "#if we want to save the image in a jpg file in our working directory\n",
    "\n",
    "image_link=requests.get('https://vivo.brown.edu/profile-images/468/59/lgandhi_photo_.jpg')\n"
   ]
  },
  {
   "cell_type": "code",
   "execution_count": 12,
   "metadata": {},
   "outputs": [],
   "source": [
    "#this is the binary version of the image which is not readable by human we comment out that because it was to large\n",
    "#so we have to input the binary version in while writting to a file (f.write)\n",
    "\n",
    "# image_link.content"
   ]
  },
  {
   "cell_type": "code",
   "execution_count": 13,
   "metadata": {},
   "outputs": [],
   "source": [
    "#now we will make a variable and open and save the image in the form of jpg format\n",
    "\n",
    "f=open('my_computer_image.jpg','wb')\n",
    "#the image mode is wb  which is write binary \n",
    "f.write(image_link.content)\n",
    "f.close()"
   ]
  }
 ],
 "metadata": {
  "kernelspec": {
   "display_name": "Python 3.10.0 64-bit",
   "language": "python",
   "name": "python3"
  },
  "language_info": {
   "codemirror_mode": {
    "name": "ipython",
    "version": 3
   },
   "file_extension": ".py",
   "mimetype": "text/x-python",
   "name": "python",
   "nbconvert_exporter": "python",
   "pygments_lexer": "ipython3",
   "version": "3.10.0"
  },
  "orig_nbformat": 4,
  "vscode": {
   "interpreter": {
    "hash": "fca0cece2c2169da84157be2185de35d7f2a005826a2d1d48aca55dbe4d79889"
   }
  }
 },
 "nbformat": 4,
 "nbformat_minor": 2
}
